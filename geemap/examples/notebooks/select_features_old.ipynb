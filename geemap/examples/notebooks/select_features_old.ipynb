{
    "cells": [
        {
            "cell_type": "markdown",
            "metadata": {},
            "source": [
                "<a href=\"https://githubtocolab.com/gee-community/geemap/blob/master/examples/notebooks/select_features_old.ipynb\" target=\"_parent\"><img src=\"https://colab.research.google.com/assets/colab-badge.svg\" alt=\"Open in Colab\"/></a>\n",
                "\n",
                "Uncomment the following line to install [geemap](https://geemap.org) if needed."
            ]
        },
        {
            "cell_type": "code",
            "execution_count": null,
            "metadata": {},
            "outputs": [],
            "source": [
                "# !pip install geemap"
            ]
        },
        {
            "cell_type": "markdown",
            "metadata": {},
            "source": [
                "# How to select features by location and attribute?"
            ]
        },
        {
            "cell_type": "markdown",
            "metadata": {
                "toc": true
            },
            "source": [
                "<h1>Table of Contents<span class=\"tocSkip\"></span></h1>\n",
                "<div class=\"toc\"><ul class=\"toc-item\"><li><span><a href=\"#Create-an-interactive-map\" data-toc-modified-id=\"Create-an-interactive-map-1\"><span class=\"toc-item-num\">1&nbsp;&nbsp;</span>Create an interactive map</a></span></li><li><span><a href=\"#Add-a-FeatureCollection-to-the-map\" data-toc-modified-id=\"Add-a-FeatureCollection-to-the-map-2\"><span class=\"toc-item-num\">2&nbsp;&nbsp;</span>Add a FeatureCollection to the map</a></span></li><li><span><a href=\"#Select-by-attribute\" data-toc-modified-id=\"Select-by-attribute-3\"><span class=\"toc-item-num\">3&nbsp;&nbsp;</span>Select by attribute</a></span></li></ul></div>"
            ]
        },
        {
            "cell_type": "markdown",
            "metadata": {},
            "source": [
                "## Create an interactive map"
            ]
        },
        {
            "cell_type": "code",
            "execution_count": null,
            "metadata": {},
            "outputs": [],
            "source": [
                "import ee\n",
                "import geemap"
            ]
        },
        {
            "cell_type": "markdown",
            "metadata": {},
            "source": [
                "## Add a FeatureCollection to the map"
            ]
        },
        {
            "cell_type": "markdown",
            "metadata": {},
            "source": [
                "Add a FeatureCollection from the Earth Engine Data Catalog"
            ]
        },
        {
            "cell_type": "code",
            "execution_count": null,
            "metadata": {},
            "outputs": [],
            "source": [
                "states = ee.FeatureCollection('TIGER/2018/States')\n",
                "Map.addLayer(states, {}, \"TIGER/2018/States\")"
            ]
        },
        {
            "cell_type": "markdown",
            "metadata": {},
            "source": [
                "Load a shapefile stored locally and convert it to ee.FeatureCollection"
            ]
        },
        {
            "cell_type": "code",
            "execution_count": null,
            "metadata": {},
            "outputs": [],
            "source": [
                "shp_path = '../data/us_states.shp'\n",
                "states_shp = geemap.shp_to_ee(shp_path)\n",
                "Map.addLayer(states_shp, {}, 'US States SHP')"
            ]
        },
        {
            "cell_type": "markdown",
            "metadata": {},
            "source": [
                "Display the vector outline only"
            ]
        },
        {
            "cell_type": "code",
            "execution_count": null,
            "metadata": {},
            "outputs": [],
            "source": [
                "Map.addLayer(ee.Image().paint(states, 0, 2), {'palette': 'red'}, 'US States Image')"
            ]
        },
        {
            "cell_type": "markdown",
            "metadata": {},
            "source": [
                "## Select by attribute"
            ]
        },
        {
            "cell_type": "code",
            "execution_count": null,
            "metadata": {},
            "outputs": [],
            "source": []
        },
        {
            "cell_type": "code",
            "execution_count": null,
            "metadata": {},
            "outputs": [],
            "source": [
                "Map = geemap.Map()\n",
                "Map"
            ]
        }
    ],
    "metadata": {
        "kernelspec": {
            "display_name": "Python 3",
            "language": "python",
            "name": "python3"
        }
    },
    "nbformat": 4,
    "nbformat_minor": 5
}
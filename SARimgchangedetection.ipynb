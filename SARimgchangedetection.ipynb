{
 "cells": [
  {
   "cell_type": "code",
   "execution_count": 1,
   "id": "18e67b81-c39e-4a5d-aa74-85a02ea5b215",
   "metadata": {
    "tags": []
   },
   "outputs": [
    {
     "ename": "EEException",
     "evalue": "Please authorize access to your Earth Engine account by running\n\nearthengine authenticate\n\nin your command line, and then retry.",
     "output_type": "error",
     "traceback": [
      "\u001b[1;31m---------------------------------------------------------------------------\u001b[0m",
      "\u001b[1;31mFileNotFoundError\u001b[0m                         Traceback (most recent call last)",
      "File \u001b[1;32m~\\AppData\\Local\\miniconda3\\envs\\text\\Lib\\site-packages\\ee\\data.py:228\u001b[0m, in \u001b[0;36mget_persistent_credentials\u001b[1;34m()\u001b[0m\n\u001b[0;32m    227\u001b[0m \u001b[38;5;28;01mtry\u001b[39;00m:\n\u001b[1;32m--> 228\u001b[0m   \u001b[38;5;28;01mreturn\u001b[39;00m Credentials(\u001b[38;5;28;01mNone\u001b[39;00m, \u001b[38;5;241m*\u001b[39m\u001b[38;5;241m*\u001b[39m\u001b[43moauth\u001b[49m\u001b[38;5;241;43m.\u001b[39;49m\u001b[43mget_credentials_arguments\u001b[49m\u001b[43m(\u001b[49m\u001b[43m)\u001b[49m)\n\u001b[0;32m    229\u001b[0m \u001b[38;5;28;01mexcept\u001b[39;00m \u001b[38;5;167;01mIOError\u001b[39;00m:\n",
      "File \u001b[1;32m~\\AppData\\Local\\miniconda3\\envs\\text\\Lib\\site-packages\\ee\\oauth.py:72\u001b[0m, in \u001b[0;36mget_credentials_arguments\u001b[1;34m()\u001b[0m\n\u001b[0;32m     71\u001b[0m \u001b[38;5;28;01mdef\u001b[39;00m \u001b[38;5;21mget_credentials_arguments\u001b[39m():\n\u001b[1;32m---> 72\u001b[0m   \u001b[38;5;28;01mwith\u001b[39;00m \u001b[38;5;28;43mopen\u001b[39;49m\u001b[43m(\u001b[49m\u001b[43mget_credentials_path\u001b[49m\u001b[43m(\u001b[49m\u001b[43m)\u001b[49m\u001b[43m)\u001b[49m \u001b[38;5;28;01mas\u001b[39;00m creds:\n\u001b[0;32m     73\u001b[0m     stored \u001b[38;5;241m=\u001b[39m json\u001b[38;5;241m.\u001b[39mload(creds)\n",
      "\u001b[1;31mFileNotFoundError\u001b[0m: [Errno 2] No such file or directory: 'C:\\\\Users\\\\qle/.config/earthengine/credentials'",
      "\nDuring handling of the above exception, another exception occurred:\n",
      "\u001b[1;31mEEException\u001b[0m                               Traceback (most recent call last)",
      "Cell \u001b[1;32mIn[1], line 2\u001b[0m\n\u001b[0;32m      1\u001b[0m \u001b[38;5;28;01mimport\u001b[39;00m \u001b[38;5;21;01mee\u001b[39;00m \n\u001b[1;32m----> 2\u001b[0m \u001b[43mee\u001b[49m\u001b[38;5;241;43m.\u001b[39;49m\u001b[43mInitialize\u001b[49m\u001b[43m(\u001b[49m\u001b[43m)\u001b[49m\n",
      "File \u001b[1;32m~\\AppData\\Local\\miniconda3\\envs\\text\\Lib\\site-packages\\ee\\__init__.py:130\u001b[0m, in \u001b[0;36mInitialize\u001b[1;34m(credentials, opt_url, cloud_api_key, http_transport, project)\u001b[0m\n\u001b[0;32m    113\u001b[0m \u001b[38;5;250m\u001b[39m\u001b[38;5;124;03m\"\"\"Initialize the EE library.\u001b[39;00m\n\u001b[0;32m    114\u001b[0m \n\u001b[0;32m    115\u001b[0m \u001b[38;5;124;03mIf this hasn't been called by the time any object constructor is used,\u001b[39;00m\n\u001b[1;32m   (...)\u001b[0m\n\u001b[0;32m    127\u001b[0m \u001b[38;5;124;03m  project: The client project ID or number to use when making API calls.\u001b[39;00m\n\u001b[0;32m    128\u001b[0m \u001b[38;5;124;03m\"\"\"\u001b[39;00m\n\u001b[0;32m    129\u001b[0m \u001b[38;5;28;01mif\u001b[39;00m credentials \u001b[38;5;241m==\u001b[39m \u001b[38;5;124m'\u001b[39m\u001b[38;5;124mpersistent\u001b[39m\u001b[38;5;124m'\u001b[39m:\n\u001b[1;32m--> 130\u001b[0m   credentials \u001b[38;5;241m=\u001b[39m \u001b[43mdata\u001b[49m\u001b[38;5;241;43m.\u001b[39;49m\u001b[43mget_persistent_credentials\u001b[49m\u001b[43m(\u001b[49m\u001b[43m)\u001b[49m\n\u001b[0;32m    131\u001b[0m data\u001b[38;5;241m.\u001b[39minitialize(\n\u001b[0;32m    132\u001b[0m     credentials\u001b[38;5;241m=\u001b[39mcredentials,\n\u001b[0;32m    133\u001b[0m     api_base_url\u001b[38;5;241m=\u001b[39m(opt_url \u001b[38;5;241m+\u001b[39m \u001b[38;5;124m'\u001b[39m\u001b[38;5;124m/api\u001b[39m\u001b[38;5;124m'\u001b[39m \u001b[38;5;28;01mif\u001b[39;00m opt_url \u001b[38;5;28;01melse\u001b[39;00m \u001b[38;5;28;01mNone\u001b[39;00m),\n\u001b[1;32m   (...)\u001b[0m\n\u001b[0;32m    137\u001b[0m     project\u001b[38;5;241m=\u001b[39mproject,\n\u001b[0;32m    138\u001b[0m     http_transport\u001b[38;5;241m=\u001b[39mhttp_transport)\n\u001b[0;32m    139\u001b[0m \u001b[38;5;66;03m# Initialize the dynamically loaded functions on the objects that want them.\u001b[39;00m\n",
      "File \u001b[1;32m~\\AppData\\Local\\miniconda3\\envs\\text\\Lib\\site-packages\\ee\\data.py:230\u001b[0m, in \u001b[0;36mget_persistent_credentials\u001b[1;34m()\u001b[0m\n\u001b[0;32m    228\u001b[0m   \u001b[38;5;28;01mreturn\u001b[39;00m Credentials(\u001b[38;5;28;01mNone\u001b[39;00m, \u001b[38;5;241m*\u001b[39m\u001b[38;5;241m*\u001b[39moauth\u001b[38;5;241m.\u001b[39mget_credentials_arguments())\n\u001b[0;32m    229\u001b[0m \u001b[38;5;28;01mexcept\u001b[39;00m \u001b[38;5;167;01mIOError\u001b[39;00m:\n\u001b[1;32m--> 230\u001b[0m   \u001b[38;5;28;01mraise\u001b[39;00m ee_exception\u001b[38;5;241m.\u001b[39mEEException(\n\u001b[0;32m    231\u001b[0m       \u001b[38;5;124m'\u001b[39m\u001b[38;5;124mPlease authorize access to your Earth Engine account by \u001b[39m\u001b[38;5;124m'\u001b[39m\n\u001b[0;32m    232\u001b[0m       \u001b[38;5;124m'\u001b[39m\u001b[38;5;124mrunning\u001b[39m\u001b[38;5;130;01m\\n\u001b[39;00m\u001b[38;5;130;01m\\n\u001b[39;00m\u001b[38;5;124mearthengine authenticate\u001b[39m\u001b[38;5;130;01m\\n\u001b[39;00m\u001b[38;5;130;01m\\n\u001b[39;00m\u001b[38;5;124m'\u001b[39m\n\u001b[0;32m    233\u001b[0m       \u001b[38;5;124m'\u001b[39m\u001b[38;5;124min your command line, and then retry.\u001b[39m\u001b[38;5;124m'\u001b[39m)\n",
      "\u001b[1;31mEEException\u001b[0m: Please authorize access to your Earth Engine account by running\n\nearthengine authenticate\n\nin your command line, and then retry."
     ]
    }
   ],
   "source": [
    "import ee \n",
    "ee.Initialize()"
   ]
  },
  {
   "cell_type": "code",
   "execution_count": 4,
   "id": "ef507fe7-bbca-4039-b9cf-84528a184c04",
   "metadata": {},
   "outputs": [
    {
     "name": "stderr",
     "output_type": "stream",
     "text": [
      "/home/ald/miniconda3/envs/pygeosys/lib/python3.9/site-packages/geopandas/_compat.py:111: UserWarning: The Shapely GEOS version (3.10.0-CAPI-1.16.0) is incompatible with the GEOS version PyGEOS was compiled with (3.10.1-CAPI-1.16.0). Conversions between both will be slow.\n",
      "  warnings.warn(\n"
     ]
    }
   ],
   "source": [
    "#Pandas modules to interact with spatial data\n",
    "import geopandas as gpd\n",
    "import pandas as pd\n",
    "from geopandas import GeoDataFrame\n",
    "from shapely.geometry import Point,Polygon\n",
    "from geemap import geopandas_to_ee\n",
    "\n",
    "from pygeosys.util.dataframe import chunk_dataframe\n",
    "#import numpy\n",
    "import numpy as np\n",
    "from functools import reduce"
   ]
  },
  {
   "cell_type": "code",
   "execution_count": 5,
   "id": "66657c36-ce8d-4aa3-96f4-d9497106d84f",
   "metadata": {},
   "outputs": [],
   "source": [
    "### Parameters\n",
    "year=2021\n",
    "date_start = str(year)+'-01-01' # fall tillage : 08-01 to 11-01 ; spring tillage : 02-01 to 05-01\n",
    "date_end = str(year)+'-12-01'\n",
    "# input_filepath = '/home/ald/code/ukraine_monitoring/data/AOI/Hlobynska.gpkg'\n",
    "# input_filepath = '/home/ald/code/ukraine_monitoring/data/AOI/Chudnivskyi.gpkg'\n",
    "# input_filepath ='/home/ald/code/ukraine_monitoring/data/AOI/Lebedynska.gpkg'\n",
    "\n",
    "input_filepath = '/home/ald/exemple.shp'\n",
    "#Fetch features from earthengine geosys's assets\n",
    "geometry_collection = gpd.read_file(input_filepath)"
   ]
  },
  {
   "cell_type": "code",
   "execution_count": 6,
   "id": "ed69e450-51ab-4b3e-be73-3c499c3b5056",
   "metadata": {},
   "outputs": [
    {
     "data": {
      "text/html": [
       "<div>\n",
       "<style scoped>\n",
       "    .dataframe tbody tr th:only-of-type {\n",
       "        vertical-align: middle;\n",
       "    }\n",
       "\n",
       "    .dataframe tbody tr th {\n",
       "        vertical-align: top;\n",
       "    }\n",
       "\n",
       "    .dataframe thead th {\n",
       "        text-align: right;\n",
       "    }\n",
       "</style>\n",
       "<table border=\"1\" class=\"dataframe\">\n",
       "  <thead>\n",
       "    <tr style=\"text-align: right;\">\n",
       "      <th></th>\n",
       "      <th>id</th>\n",
       "      <th>geometry</th>\n",
       "    </tr>\n",
       "  </thead>\n",
       "  <tbody>\n",
       "    <tr>\n",
       "      <th>0</th>\n",
       "      <td>None</td>\n",
       "      <td>POLYGON ((1.57034 43.68988, 1.59634 43.68995, ...</td>\n",
       "    </tr>\n",
       "  </tbody>\n",
       "</table>\n",
       "</div>"
      ],
      "text/plain": [
       "     id                                           geometry\n",
       "0  None  POLYGON ((1.57034 43.68988, 1.59634 43.68995, ..."
      ]
     },
     "execution_count": 6,
     "metadata": {},
     "output_type": "execute_result"
    }
   ],
   "source": [
    "geometry_collection.head()"
   ]
  },
  {
   "cell_type": "code",
   "execution_count": 7,
   "id": "9e07dc34-ec92-43a8-ad41-3b76b5b297f7",
   "metadata": {},
   "outputs": [
    {
     "name": "stdout",
     "output_type": "stream",
     "text": [
      "Chunks: 1\n",
      "Processing chunk 0 / 1\n",
      "Uploading FeatureCollection (1 Features) on server side\n"
     ]
    }
   ],
   "source": [
    "chunk_size=1\n",
    "if chunk_size is None:\n",
    "    geometry_collections = [geometry_collection]\n",
    "else:\n",
    "    geometry_collections = list(chunk_dataframe(geometry_collection, chunk_size))\n",
    "\n",
    "print(f'Chunks: {len(geometry_collections)}')\n",
    "filename_prefixes = []\n",
    "for chunk_id,  gc in enumerate(geometry_collections):\n",
    "    print(\n",
    "            f'Processing chunk {chunk_id} / {len(geometry_collections)}')\n",
    "    print(\n",
    "            f'Uploading FeatureCollection ({len(gc)} Features) on server side')\n",
    "    table = geopandas_to_ee(gc)\n",
    "\n",
    "\n",
    "aoi = table.geometry()\n"
   ]
  },
  {
   "cell_type": "code",
   "execution_count": 8,
   "id": "e0a45a3f-f7a7-4077-8d72-0ea63d9c816a",
   "metadata": {
    "collapsed": true,
    "jupyter": {
     "outputs_hidden": true
    },
    "tags": []
   },
   "outputs": [
    {
     "data": {
      "text/plain": [
       "ee.Geometry({\n",
       "  \"functionInvocationValue\": {\n",
       "    \"functionName\": \"Collection.geometry\",\n",
       "    \"arguments\": {\n",
       "      \"collection\": {\n",
       "        \"functionInvocationValue\": {\n",
       "          \"functionName\": \"Collection\",\n",
       "          \"arguments\": {\n",
       "            \"features\": {\n",
       "              \"arrayValue\": {\n",
       "                \"values\": [\n",
       "                  {\n",
       "                    \"functionInvocationValue\": {\n",
       "                      \"functionName\": \"Feature\",\n",
       "                      \"arguments\": {\n",
       "                        \"geometry\": {\n",
       "                          \"functionInvocationValue\": {\n",
       "                            \"functionName\": \"GeometryConstructors.Polygon\",\n",
       "                            \"arguments\": {\n",
       "                              \"coordinates\": {\n",
       "                                \"constantValue\": [\n",
       "                                  [\n",
       "                                    [\n",
       "                                      1.570337803949238,\n",
       "                                      43.68988258799277\n",
       "                                    ],\n",
       "                                    [\n",
       "                                      1.596338246588212,\n",
       "                                      43.68995221994307\n",
       "                                    ],\n",
       "                                    [\n",
       "                                      1.597590119752311,\n",
       "                                      43.67073073379962\n",
       "                                    ],\n",
       "                                    [\n",
       "                                      1.569952612206438,\n",
       "                                      43.671148657673214\n",
       "                                    ],\n",
       "                                    [\n",
       "                                      1.570337803949238,\n",
       "                                      43.68988258799277\n",
       "                                    ]\n",
       "                                  ]\n",
       "                                ]\n",
       "                              },\n",
       "                              \"geodesic\": {\n",
       "                                \"constantValue\": true\n",
       "                              }\n",
       "                            }\n",
       "                          }\n",
       "                        },\n",
       "                        \"metadata\": {\n",
       "                          \"constantValue\": {\n",
       "                            \"id\": null\n",
       "                          }\n",
       "                        }\n",
       "                      }\n",
       "                    }\n",
       "                  }\n",
       "                ]\n",
       "              }\n",
       "            }\n",
       "          }\n",
       "        }\n",
       "      }\n",
       "    }\n",
       "  }\n",
       "})"
      ]
     },
     "execution_count": 8,
     "metadata": {},
     "output_type": "execute_result"
    }
   ],
   "source": [
    "aoi"
   ]
  },
  {
   "cell_type": "code",
   "execution_count": 18,
   "id": "161a48df-c157-4efb-92ef-e5f66b4d317f",
   "metadata": {},
   "outputs": [],
   "source": [
    "# prepare data before download\n",
    "im_coll = (ee.ImageCollection('COPERNICUS/S1_GRD')\n",
    "           .filterBounds(aoi)\n",
    "           .filterDate(ee.Date(date_start),ee.Date(date_end))\n",
    "           .filter(ee.Filter.eq('orbitProperties_pass', 'DESCENDING')))"
   ]
  },
  {
   "cell_type": "code",
   "execution_count": 19,
   "id": "9f7756c9-6e70-4141-8c60-32b41ac8de4f",
   "metadata": {
    "collapsed": true,
    "jupyter": {
     "outputs_hidden": true
    },
    "tags": []
   },
   "outputs": [
    {
     "data": {
      "text/plain": [
       "[110,\n",
       " 110,\n",
       " 110,\n",
       " 110,\n",
       " 110,\n",
       " 110,\n",
       " 110,\n",
       " 110,\n",
       " 110,\n",
       " 110,\n",
       " 110,\n",
       " 110,\n",
       " 110,\n",
       " 110,\n",
       " 110,\n",
       " 110,\n",
       " 110,\n",
       " 110,\n",
       " 110,\n",
       " 110,\n",
       " 110,\n",
       " 110,\n",
       " 110,\n",
       " 110,\n",
       " 110,\n",
       " 110,\n",
       " 110,\n",
       " 110,\n",
       " 110,\n",
       " 110,\n",
       " 110,\n",
       " 110,\n",
       " 110,\n",
       " 110,\n",
       " 110,\n",
       " 110,\n",
       " 110,\n",
       " 110,\n",
       " 110,\n",
       " 110,\n",
       " 110,\n",
       " 110,\n",
       " 110,\n",
       " 110,\n",
       " 110,\n",
       " 110,\n",
       " 110,\n",
       " 110,\n",
       " 110,\n",
       " 110,\n",
       " 110,\n",
       " 110,\n",
       " 110,\n",
       " 110,\n",
       " 110,\n",
       " 110]"
      ]
     },
     "execution_count": 19,
     "metadata": {},
     "output_type": "execute_result"
    }
   ],
   "source": [
    "# get available orbits info\n",
    "im_coll.aggregate_array('relativeOrbitNumber_start').getInfo()\n"
   ]
  },
  {
   "cell_type": "code",
   "execution_count": 21,
   "id": "5f2dfe18-681d-4def-9d6e-7c15f1c7bbbb",
   "metadata": {},
   "outputs": [
    {
     "data": {
      "text/plain": [
       "56"
      ]
     },
     "execution_count": 21,
     "metadata": {},
     "output_type": "execute_result"
    }
   ],
   "source": [
    "## get available dates \n",
    "import time\n",
    "acq_times = im_coll.aggregate_array('system:time_start').getInfo()\n",
    "[time.strftime('%x', time.gmtime(acq_time/1000)) for acq_time in acq_times]"
   ]
  },
  {
   "cell_type": "code",
   "execution_count": 22,
   "id": "0d3a2388-60ad-4804-b104-d90a4155c035",
   "metadata": {},
   "outputs": [],
   "source": [
    "im_list = im_coll.toList(im_coll.size())"
   ]
  },
  {
   "cell_type": "code",
   "execution_count": 29,
   "id": "62fe3b29-d4c0-4f1c-a2ce-be0e3eabf315",
   "metadata": {
    "tags": []
   },
   "outputs": [],
   "source": [
    "img=im_list.get(0)"
   ]
  },
  {
   "cell_type": "code",
   "execution_count": 44,
   "id": "25be5dad-cb0e-4f7d-8265-0285a86670c4",
   "metadata": {},
   "outputs": [],
   "source": [
    "img = ee.Image(im_coll.select('VV','VH').first())#get first image of collection \n",
    "img2 = ee.Image(im_coll.get(1))#get first image of collection \n",
    "imgMEAN = ee.Image(im_coll.filterDate(f'{year}-09-01', f'{year}-09-30').select('VV','VH').mean())\n",
    "\n",
    "    "
   ]
  },
  {
   "cell_type": "code",
   "execution_count": 45,
   "id": "1a236009-411b-415d-b45e-76a021d9e578",
   "metadata": {},
   "outputs": [],
   "source": [
    "task=ee.batch.Export.image.toCloudStorage(**{\n",
    "        'image': img.clip(aoi),\n",
    "        'description': 'Gragnague SAR',\n",
    "        'bucket': 'gri_geosys', #bucket name never changes\n",
    "        'fileNamePrefix':'QLE/ChangeDetection/SAR/exempleGragnague',#path to file\n",
    "        'scale': 10,#resolution\n",
    "        'region':aoi,\n",
    "        'maxPixels': 15000000000,\n",
    "        'skipEmptyTiles': True\n",
    "        })\n",
    "   "
   ]
  },
  {
   "cell_type": "code",
   "execution_count": 46,
   "id": "e5b481e8-7f74-4834-955f-f9e42d3d91ea",
   "metadata": {},
   "outputs": [],
   "source": [
    "task.start()"
   ]
  },
  {
   "cell_type": "code",
   "execution_count": null,
   "id": "637a49e5-6307-44dc-b1dd-b467568052f7",
   "metadata": {},
   "outputs": [],
   "source": []
  },
  {
   "cell_type": "code",
   "execution_count": 48,
   "id": "190f9f45-c88b-446a-99c6-4cff14ef4eae",
   "metadata": {},
   "outputs": [],
   "source": [
    "# Import the Folium library.\n",
    "import folium\n",
    "import sys  \n",
    "def add_ee_layer(self, ee_image_object, vis_params, name):\n",
    "  map_id_dict = ee.Image(ee_image_object).getMapId(vis_params)\n",
    "  folium.raster_layers.TileLayer(\n",
    "    tiles = map_id_dict['tile_fetcher'].url_format,\n",
    "    attr = 'Map Data &copy; <a href=\"https://earthengine.google.com/\">Google Earth Engine</a>',\n",
    "    name = name,\n",
    "    overlay = True,\n",
    "    control = True\n",
    "  ).add_to(self)\n",
    "\n",
    "# Add EE drawing method to folium.\n",
    "folium.Map.add_ee_layer = add_ee_layer"
   ]
  },
  {
   "cell_type": "code",
   "execution_count": null,
   "id": "446716fa-1f7a-4f72-be57-a81750648435",
   "metadata": {},
   "outputs": [],
   "source": []
  },
  {
   "cell_type": "code",
   "execution_count": 57,
   "id": "17fcd4e8-e6c8-4484-9120-57c8252b2de1",
   "metadata": {},
   "outputs": [
    {
     "ename": "TypeError",
     "evalue": "'int' object is not iterable",
     "output_type": "error",
     "traceback": [
      "\u001b[0;31m---------------------------------------------------------------------------\u001b[0m",
      "\u001b[0;31mTypeError\u001b[0m                                 Traceback (most recent call last)",
      "Input \u001b[0;32mIn [57]\u001b[0m, in \u001b[0;36m<cell line: 3>\u001b[0;34m()\u001b[0m\n\u001b[1;32m      1\u001b[0m location \u001b[38;5;241m=\u001b[39m aoi\u001b[38;5;241m.\u001b[39mcentroid()\u001b[38;5;241m.\u001b[39mcoordinates()\u001b[38;5;241m.\u001b[39mgetInfo()[::\u001b[38;5;241m-\u001b[39m\u001b[38;5;241m1\u001b[39m]\n\u001b[1;32m      2\u001b[0m mp \u001b[38;5;241m=\u001b[39m folium\u001b[38;5;241m.\u001b[39mMap(location\u001b[38;5;241m=\u001b[39mlocation, zoom_start\u001b[38;5;241m=\u001b[39m\u001b[38;5;241m20\u001b[39m)\n\u001b[0;32m----> 3\u001b[0m mp\u001b[38;5;241m.\u001b[39madd_ee_layer(img,\u001b[38;5;241m1\u001b[39m,\u001b[38;5;124m'\u001b[39m\u001b[38;5;124mRatio\u001b[39m\u001b[38;5;124m'\u001b[39m)\n\u001b[1;32m      4\u001b[0m mp\u001b[38;5;241m.\u001b[39madd_child(folium\u001b[38;5;241m.\u001b[39mLayerControl())\n\u001b[1;32m      6\u001b[0m display(mp)\n",
      "Input \u001b[0;32mIn [48]\u001b[0m, in \u001b[0;36madd_ee_layer\u001b[0;34m(self, ee_image_object, vis_params, name)\u001b[0m\n\u001b[1;32m      4\u001b[0m \u001b[38;5;28;01mdef\u001b[39;00m \u001b[38;5;21madd_ee_layer\u001b[39m(\u001b[38;5;28mself\u001b[39m, ee_image_object, vis_params, name):\n\u001b[0;32m----> 5\u001b[0m   map_id_dict \u001b[38;5;241m=\u001b[39m \u001b[43mee\u001b[49m\u001b[38;5;241;43m.\u001b[39;49m\u001b[43mImage\u001b[49m\u001b[43m(\u001b[49m\u001b[43mee_image_object\u001b[49m\u001b[43m)\u001b[49m\u001b[38;5;241;43m.\u001b[39;49m\u001b[43mgetMapId\u001b[49m\u001b[43m(\u001b[49m\u001b[43mvis_params\u001b[49m\u001b[43m)\u001b[49m\n\u001b[1;32m      6\u001b[0m   folium\u001b[38;5;241m.\u001b[39mraster_layers\u001b[38;5;241m.\u001b[39mTileLayer(\n\u001b[1;32m      7\u001b[0m     tiles \u001b[38;5;241m=\u001b[39m map_id_dict[\u001b[38;5;124m'\u001b[39m\u001b[38;5;124mtile_fetcher\u001b[39m\u001b[38;5;124m'\u001b[39m]\u001b[38;5;241m.\u001b[39murl_format,\n\u001b[1;32m      8\u001b[0m     attr \u001b[38;5;241m=\u001b[39m \u001b[38;5;124m'\u001b[39m\u001b[38;5;124mMap Data &copy; <a href=\u001b[39m\u001b[38;5;124m\"\u001b[39m\u001b[38;5;124mhttps://earthengine.google.com/\u001b[39m\u001b[38;5;124m\"\u001b[39m\u001b[38;5;124m>Google Earth Engine</a>\u001b[39m\u001b[38;5;124m'\u001b[39m,\n\u001b[0;32m   (...)\u001b[0m\n\u001b[1;32m     11\u001b[0m     control \u001b[38;5;241m=\u001b[39m \u001b[38;5;28;01mTrue\u001b[39;00m\n\u001b[1;32m     12\u001b[0m   )\u001b[38;5;241m.\u001b[39madd_to(\u001b[38;5;28mself\u001b[39m)\n",
      "File \u001b[0;32m~/miniconda3/envs/pygeosys/lib/python3.9/site-packages/ee/image.py:128\u001b[0m, in \u001b[0;36mImage.getMapId\u001b[0;34m(self, vis_params)\u001b[0m\n\u001b[1;32m    119\u001b[0m \u001b[38;5;28;01mdef\u001b[39;00m \u001b[38;5;21mgetMapId\u001b[39m(\u001b[38;5;28mself\u001b[39m, vis_params\u001b[38;5;241m=\u001b[39m\u001b[38;5;28;01mNone\u001b[39;00m):\n\u001b[1;32m    120\u001b[0m   \u001b[38;5;124;03m\"\"\"Fetch and return a map ID dictionary, suitable for use in a Map overlay.\u001b[39;00m\n\u001b[1;32m    121\u001b[0m \n\u001b[1;32m    122\u001b[0m \u001b[38;5;124;03m  Args:\u001b[39;00m\n\u001b[0;32m   (...)\u001b[0m\n\u001b[1;32m    126\u001b[0m \u001b[38;5;124;03m    A map ID dictionary as described in ee.data.getMapId.\u001b[39;00m\n\u001b[1;32m    127\u001b[0m \u001b[38;5;124;03m  \"\"\"\u001b[39;00m\n\u001b[0;32m--> 128\u001b[0m   vis_image, request \u001b[38;5;241m=\u001b[39m \u001b[38;5;28;43mself\u001b[39;49m\u001b[38;5;241;43m.\u001b[39;49m\u001b[43m_apply_visualization\u001b[49m\u001b[43m(\u001b[49m\u001b[43mvis_params\u001b[49m\u001b[43m)\u001b[49m\n\u001b[1;32m    129\u001b[0m   request[\u001b[38;5;124m'\u001b[39m\u001b[38;5;124mimage\u001b[39m\u001b[38;5;124m'\u001b[39m] \u001b[38;5;241m=\u001b[39m vis_image\n\u001b[1;32m    130\u001b[0m   response \u001b[38;5;241m=\u001b[39m data\u001b[38;5;241m.\u001b[39mgetMapId(request)\n",
      "File \u001b[0;32m~/miniconda3/envs/pygeosys/lib/python3.9/site-packages/ee/image.py:329\u001b[0m, in \u001b[0;36mImage._apply_visualization\u001b[0;34m(self, params)\u001b[0m\n\u001b[1;32m    327\u001b[0m vis_params \u001b[38;5;241m=\u001b[39m {}\n\u001b[1;32m    328\u001b[0m \u001b[38;5;28;01mif\u001b[39;00m params:\n\u001b[0;32m--> 329\u001b[0m   \u001b[38;5;28;01mfor\u001b[39;00m key \u001b[38;5;129;01min\u001b[39;00m params:\n\u001b[1;32m    330\u001b[0m     \u001b[38;5;28;01mif\u001b[39;00m key \u001b[38;5;129;01min\u001b[39;00m keys_to_extract:\n\u001b[1;32m    331\u001b[0m       vis_params[key] \u001b[38;5;241m=\u001b[39m params[key]\n",
      "\u001b[0;31mTypeError\u001b[0m: 'int' object is not iterable"
     ]
    }
   ],
   "source": [
    "location = aoi.centroid().coordinates().getInfo()[::-1]\n",
    "mp = folium.Map(location=location, zoom_start=20)\n",
    "mp.add_ee_layer(img,{'min': 0, 'max': 10},'Ratio')\n",
    "mp.add_child(folium.LayerControl())\n",
    "\n",
    "display(mp)\n",
    "url = img.getThumbURL({'min': 0, 'max': 10})\n",
    "disp.Image(url=url, width=800)"
   ]
  },
  {
   "cell_type": "code",
   "execution_count": null,
   "id": "3dcfaad0-139a-47ab-a931-2092965a21db",
   "metadata": {},
   "outputs": [],
   "source": []
  }
 ],
 "metadata": {
  "kernelspec": {
   "display_name": "Python 3 (ipykernel)",
   "language": "python",
   "name": "python3"
  },
  "language_info": {
   "codemirror_mode": {
    "name": "ipython",
    "version": 3
   },
   "file_extension": ".py",
   "mimetype": "text/x-python",
   "name": "python",
   "nbconvert_exporter": "python",
   "pygments_lexer": "ipython3",
   "version": "3.11.0"
  }
 },
 "nbformat": 4,
 "nbformat_minor": 5
}
